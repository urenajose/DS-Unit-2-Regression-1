{
  "nbformat": 4,
  "nbformat_minor": 0,
  "metadata": {
    "kernelspec": {
      "display_name": "Python 3",
      "language": "python",
      "name": "python3"
    },
    "language_info": {
      "codemirror_mode": {
        "name": "ipython",
        "version": 3
      },
      "file_extension": ".py",
      "mimetype": "text/x-python",
      "name": "python",
      "nbconvert_exporter": "python",
      "pygments_lexer": "ipython3",
      "version": "3.7.3"
    },
    "colab": {
      "name": "Jose_Urena_DS_213_assignment.ipynb",
      "provenance": [],
      "collapsed_sections": [],
      "include_colab_link": true
    }
  },
  "cells": [
    {
      "cell_type": "markdown",
      "metadata": {
        "id": "view-in-github",
        "colab_type": "text"
      },
      "source": [
        "<a href=\"https://colab.research.google.com/github/urenajose/DS-Unit-2-Regression-1/blob/master/Jose_Urena_DS_213_assignment.ipynb\" target=\"_parent\"><img src=\"https://colab.research.google.com/assets/colab-badge.svg\" alt=\"Open In Colab\"/></a>"
      ]
    },
    {
      "cell_type": "markdown",
      "metadata": {
        "colab_type": "text",
        "id": "7IXUfiQ2UKj6"
      },
      "source": [
        "# Ridge Regression\n",
        "\n",
        "## Assignment\n",
        "\n",
        "We're going back to our other **New York City** real estate dataset. Instead of predicting apartment rents, you'll predict property sales prices.\n",
        "\n",
        "But not just for condos in Tribeca...\n",
        "\n",
        "- [ ] Use a subset of the data where `BUILDING_CLASS_CATEGORY` == `'01 ONE FAMILY DWELLINGS'` and the sale price was more than 100 thousand and less than 2 million.\n",
        "- [ ] Do train/test split. Use data from January — March 2019 to train. Use data from April 2019 to test.\n",
        "- [ ] Do one-hot encoding of categorical features.\n",
        "- [ ] Do feature selection with `SelectKBest`.\n",
        "- [ ] Fit a ridge regression model with multiple features. Use the `normalize=True` parameter (or do [feature scaling](https://scikit-learn.org/stable/modules/preprocessing.html) beforehand — use the scaler's `fit_transform` method with the train set, and the scaler's `transform` method with the test set)\n",
        "- [ ] Get mean absolute error for the test set.\n",
        "- [ ] As always, commit your notebook to your fork of the GitHub repo.\n",
        "\n",
        "The [NYC Department of Finance](https://www1.nyc.gov/site/finance/taxes/property-rolling-sales-data.page) has a glossary of property sales terms and NYC Building Class Code Descriptions. The data comes from the [NYC OpenData](https://data.cityofnewyork.us/browse?q=NYC%20calendar%20sales) portal.\n",
        "\n",
        "\n",
        "## Stretch Goals\n",
        "\n",
        "Don't worry, you aren't expected to do all these stretch goals! These are just ideas to consider and choose from.\n",
        "\n",
        "- [ ] Add your own stretch goal(s) !\n",
        "- [ ] Instead of `Ridge`, try `LinearRegression`. Depending on how many features you select, your errors will probably blow up! 💥\n",
        "- [ ] Instead of `Ridge`, try [`RidgeCV`](https://scikit-learn.org/stable/modules/generated/sklearn.linear_model.RidgeCV.html).\n",
        "- [ ] Learn more about feature selection:\n",
        "    - [\"Permutation importance\"](https://www.kaggle.com/dansbecker/permutation-importance)\n",
        "    - [scikit-learn's User Guide for Feature Selection](https://scikit-learn.org/stable/modules/feature_selection.html)\n",
        "    - [mlxtend](http://rasbt.github.io/mlxtend/) library\n",
        "    - scikit-learn-contrib libraries: [boruta_py](https://github.com/scikit-learn-contrib/boruta_py) & [stability-selection](https://github.com/scikit-learn-contrib/stability-selection)\n",
        "    - [_Feature Engineering and Selection_](http://www.feat.engineering/) by Kuhn & Johnson.\n",
        "- [ ] Try [statsmodels](https://www.statsmodels.org/stable/index.html) if you’re interested in more inferential statistical approach to linear regression and feature selection, looking at p values and 95% confidence intervals for the coefficients.\n",
        "- [ ] Read [_An Introduction to Statistical Learning_](http://faculty.marshall.usc.edu/gareth-james/ISL/ISLR%20Seventh%20Printing.pdf), Chapters 1-3, for more math & theory, but in an accessible, readable way.\n",
        "- [ ] Try [scikit-learn pipelines](https://scikit-learn.org/stable/modules/compose.html)."
      ]
    },
    {
      "cell_type": "code",
      "metadata": {
        "colab_type": "code",
        "id": "o9eSnDYhUGD7",
        "colab": {}
      },
      "source": [
        "%%capture\n",
        "import sys\n",
        "\n",
        "# If you're on Colab:\n",
        "if 'google.colab' in sys.modules:\n",
        "    DATA_PATH = 'https://raw.githubusercontent.com/LambdaSchool/DS-Unit-2-Applied-Modeling/master/data/'\n",
        "    !pip install category_encoders==2.*\n",
        "\n",
        "# If you're working locally:\n",
        "else:\n",
        "    DATA_PATH = '../data/'\n",
        "    \n",
        "# Ignore this Numpy warning when using Plotly Express:\n",
        "# FutureWarning: Method .ptp is deprecated and will be removed in a future version. Use numpy.ptp instead.\n",
        "import warnings\n",
        "warnings.filterwarnings(action='ignore', category=FutureWarning, module='numpy')"
      ],
      "execution_count": 46,
      "outputs": []
    },
    {
      "cell_type": "code",
      "metadata": {
        "colab_type": "code",
        "id": "QJBD4ruICm1m",
        "colab": {}
      },
      "source": [
        "import pandas as pd\n",
        "import pandas_profiling\n",
        "\n",
        "# Read New York City property sales data\n",
        "df = pd.read_csv(DATA_PATH+'condos/NYC_Citywide_Rolling_Calendar_Sales.csv')\n",
        "\n",
        "# Change column names: replace spaces with underscores\n",
        "df.columns = [col.replace(' ', '_') for col in df]\n",
        "\n",
        "# SALE_PRICE was read as strings.\n",
        "# Remove symbols, convert to integer\n",
        "df['SALE_PRICE'] = (\n",
        "    df['SALE_PRICE']\n",
        "    .str.replace('$','')\n",
        "    .str.replace('-','')\n",
        "    .str.replace(',','')\n",
        "    .astype(int)\n",
        ")"
      ],
      "execution_count": 47,
      "outputs": []
    },
    {
      "cell_type": "code",
      "metadata": {
        "id": "LW--6_9W_K65",
        "colab_type": "code",
        "colab": {}
      },
      "source": [
        "# BOROUGH is a numeric column, but arguably should be a categorical feature,\n",
        "# so convert it from a number to a string\n",
        "df['BOROUGH'] = df['BOROUGH'].astype(str)"
      ],
      "execution_count": 48,
      "outputs": []
    },
    {
      "cell_type": "code",
      "metadata": {
        "id": "UT8vtFeu_K6-",
        "colab_type": "code",
        "colab": {}
      },
      "source": [
        "# Reduce cardinality for NEIGHBORHOOD feature\n",
        "\n",
        "# Get a list of the top 10 neighborhoods\n",
        "top10 = df['NEIGHBORHOOD'].value_counts()[:10].index\n",
        "\n",
        "# At locations where the neighborhood is NOT in the top 10, \n",
        "# replace the neighborhood with 'OTHER'\n",
        "df.loc[~df['NEIGHBORHOOD'].isin(top10), 'NEIGHBORHOOD'] = 'OTHER'"
      ],
      "execution_count": 49,
      "outputs": []
    },
    {
      "cell_type": "code",
      "metadata": {
        "id": "E25Oa6OcNzJH",
        "colab_type": "code",
        "colab": {}
      },
      "source": [
        "import datetime"
      ],
      "execution_count": 50,
      "outputs": []
    },
    {
      "cell_type": "code",
      "metadata": {
        "id": "9LDabaza_K7B",
        "colab_type": "code",
        "colab": {
          "base_uri": "https://localhost:8080/",
          "height": 434
        },
        "outputId": "3b6e7de6-7098-4d26-d315-d5d1a27fc0cd"
      },
      "source": [
        "df.head()"
      ],
      "execution_count": 51,
      "outputs": [
        {
          "output_type": "execute_result",
          "data": {
            "text/html": [
              "<div>\n",
              "<style scoped>\n",
              "    .dataframe tbody tr th:only-of-type {\n",
              "        vertical-align: middle;\n",
              "    }\n",
              "\n",
              "    .dataframe tbody tr th {\n",
              "        vertical-align: top;\n",
              "    }\n",
              "\n",
              "    .dataframe thead th {\n",
              "        text-align: right;\n",
              "    }\n",
              "</style>\n",
              "<table border=\"1\" class=\"dataframe\">\n",
              "  <thead>\n",
              "    <tr style=\"text-align: right;\">\n",
              "      <th></th>\n",
              "      <th>BOROUGH</th>\n",
              "      <th>NEIGHBORHOOD</th>\n",
              "      <th>BUILDING_CLASS_CATEGORY</th>\n",
              "      <th>TAX_CLASS_AT_PRESENT</th>\n",
              "      <th>BLOCK</th>\n",
              "      <th>LOT</th>\n",
              "      <th>EASE-MENT</th>\n",
              "      <th>BUILDING_CLASS_AT_PRESENT</th>\n",
              "      <th>ADDRESS</th>\n",
              "      <th>APARTMENT_NUMBER</th>\n",
              "      <th>ZIP_CODE</th>\n",
              "      <th>RESIDENTIAL_UNITS</th>\n",
              "      <th>COMMERCIAL_UNITS</th>\n",
              "      <th>TOTAL_UNITS</th>\n",
              "      <th>LAND_SQUARE_FEET</th>\n",
              "      <th>GROSS_SQUARE_FEET</th>\n",
              "      <th>YEAR_BUILT</th>\n",
              "      <th>TAX_CLASS_AT_TIME_OF_SALE</th>\n",
              "      <th>BUILDING_CLASS_AT_TIME_OF_SALE</th>\n",
              "      <th>SALE_PRICE</th>\n",
              "      <th>SALE_DATE</th>\n",
              "    </tr>\n",
              "  </thead>\n",
              "  <tbody>\n",
              "    <tr>\n",
              "      <th>0</th>\n",
              "      <td>1</td>\n",
              "      <td>OTHER</td>\n",
              "      <td>13 CONDOS - ELEVATOR APARTMENTS</td>\n",
              "      <td>2</td>\n",
              "      <td>716</td>\n",
              "      <td>1246</td>\n",
              "      <td>NaN</td>\n",
              "      <td>R4</td>\n",
              "      <td>447 WEST 18TH STREET, PH12A</td>\n",
              "      <td>PH12A</td>\n",
              "      <td>10011.0</td>\n",
              "      <td>1.0</td>\n",
              "      <td>0.0</td>\n",
              "      <td>1.0</td>\n",
              "      <td>10,733</td>\n",
              "      <td>1979.0</td>\n",
              "      <td>2007.0</td>\n",
              "      <td>2</td>\n",
              "      <td>R4</td>\n",
              "      <td>0</td>\n",
              "      <td>01/01/2019</td>\n",
              "    </tr>\n",
              "    <tr>\n",
              "      <th>1</th>\n",
              "      <td>1</td>\n",
              "      <td>OTHER</td>\n",
              "      <td>21 OFFICE BUILDINGS</td>\n",
              "      <td>4</td>\n",
              "      <td>812</td>\n",
              "      <td>68</td>\n",
              "      <td>NaN</td>\n",
              "      <td>O5</td>\n",
              "      <td>144 WEST 37TH STREET</td>\n",
              "      <td>NaN</td>\n",
              "      <td>10018.0</td>\n",
              "      <td>0.0</td>\n",
              "      <td>6.0</td>\n",
              "      <td>6.0</td>\n",
              "      <td>2,962</td>\n",
              "      <td>15435.0</td>\n",
              "      <td>1920.0</td>\n",
              "      <td>4</td>\n",
              "      <td>O5</td>\n",
              "      <td>0</td>\n",
              "      <td>01/01/2019</td>\n",
              "    </tr>\n",
              "    <tr>\n",
              "      <th>2</th>\n",
              "      <td>1</td>\n",
              "      <td>OTHER</td>\n",
              "      <td>21 OFFICE BUILDINGS</td>\n",
              "      <td>4</td>\n",
              "      <td>839</td>\n",
              "      <td>69</td>\n",
              "      <td>NaN</td>\n",
              "      <td>O5</td>\n",
              "      <td>40 WEST 38TH STREET</td>\n",
              "      <td>NaN</td>\n",
              "      <td>10018.0</td>\n",
              "      <td>0.0</td>\n",
              "      <td>7.0</td>\n",
              "      <td>7.0</td>\n",
              "      <td>2,074</td>\n",
              "      <td>11332.0</td>\n",
              "      <td>1930.0</td>\n",
              "      <td>4</td>\n",
              "      <td>O5</td>\n",
              "      <td>0</td>\n",
              "      <td>01/01/2019</td>\n",
              "    </tr>\n",
              "    <tr>\n",
              "      <th>3</th>\n",
              "      <td>1</td>\n",
              "      <td>OTHER</td>\n",
              "      <td>13 CONDOS - ELEVATOR APARTMENTS</td>\n",
              "      <td>2</td>\n",
              "      <td>592</td>\n",
              "      <td>1041</td>\n",
              "      <td>NaN</td>\n",
              "      <td>R4</td>\n",
              "      <td>1 SHERIDAN SQUARE, 8C</td>\n",
              "      <td>8C</td>\n",
              "      <td>10014.0</td>\n",
              "      <td>1.0</td>\n",
              "      <td>0.0</td>\n",
              "      <td>1.0</td>\n",
              "      <td>0</td>\n",
              "      <td>500.0</td>\n",
              "      <td>0.0</td>\n",
              "      <td>2</td>\n",
              "      <td>R4</td>\n",
              "      <td>0</td>\n",
              "      <td>01/01/2019</td>\n",
              "    </tr>\n",
              "    <tr>\n",
              "      <th>4</th>\n",
              "      <td>1</td>\n",
              "      <td>UPPER EAST SIDE (59-79)</td>\n",
              "      <td>15 CONDOS - 2-10 UNIT RESIDENTIAL</td>\n",
              "      <td>2C</td>\n",
              "      <td>1379</td>\n",
              "      <td>1402</td>\n",
              "      <td>NaN</td>\n",
              "      <td>R1</td>\n",
              "      <td>20 EAST 65TH STREET, B</td>\n",
              "      <td>B</td>\n",
              "      <td>10065.0</td>\n",
              "      <td>1.0</td>\n",
              "      <td>0.0</td>\n",
              "      <td>1.0</td>\n",
              "      <td>0</td>\n",
              "      <td>6406.0</td>\n",
              "      <td>0.0</td>\n",
              "      <td>2</td>\n",
              "      <td>R1</td>\n",
              "      <td>0</td>\n",
              "      <td>01/01/2019</td>\n",
              "    </tr>\n",
              "  </tbody>\n",
              "</table>\n",
              "</div>"
            ],
            "text/plain": [
              "  BOROUGH             NEIGHBORHOOD  ... SALE_PRICE   SALE_DATE\n",
              "0       1                    OTHER  ...          0  01/01/2019\n",
              "1       1                    OTHER  ...          0  01/01/2019\n",
              "2       1                    OTHER  ...          0  01/01/2019\n",
              "3       1                    OTHER  ...          0  01/01/2019\n",
              "4       1  UPPER EAST SIDE (59-79)  ...          0  01/01/2019\n",
              "\n",
              "[5 rows x 21 columns]"
            ]
          },
          "metadata": {
            "tags": []
          },
          "execution_count": 51
        }
      ]
    },
    {
      "cell_type": "code",
      "metadata": {
        "id": "MD0AehfkKadG",
        "colab_type": "code",
        "colab": {
          "base_uri": "https://localhost:8080/",
          "height": 487
        },
        "outputId": "a04f3d42-f413-42d7-ce6b-dcf5f4af1f14"
      },
      "source": [
        "df.info()"
      ],
      "execution_count": 52,
      "outputs": [
        {
          "output_type": "stream",
          "text": [
            "<class 'pandas.core.frame.DataFrame'>\n",
            "RangeIndex: 23040 entries, 0 to 23039\n",
            "Data columns (total 21 columns):\n",
            " #   Column                          Non-Null Count  Dtype  \n",
            "---  ------                          --------------  -----  \n",
            " 0   BOROUGH                         23040 non-null  object \n",
            " 1   NEIGHBORHOOD                    23040 non-null  object \n",
            " 2   BUILDING_CLASS_CATEGORY         23040 non-null  object \n",
            " 3   TAX_CLASS_AT_PRESENT            23039 non-null  object \n",
            " 4   BLOCK                           23040 non-null  int64  \n",
            " 5   LOT                             23040 non-null  int64  \n",
            " 6   EASE-MENT                       0 non-null      float64\n",
            " 7   BUILDING_CLASS_AT_PRESENT       23039 non-null  object \n",
            " 8   ADDRESS                         23040 non-null  object \n",
            " 9   APARTMENT_NUMBER                5201 non-null   object \n",
            " 10  ZIP_CODE                        23039 non-null  float64\n",
            " 11  RESIDENTIAL_UNITS               23039 non-null  float64\n",
            " 12  COMMERCIAL_UNITS                23039 non-null  float64\n",
            " 13  TOTAL_UNITS                     23039 non-null  float64\n",
            " 14  LAND_SQUARE_FEET                22987 non-null  object \n",
            " 15  GROSS_SQUARE_FEET               23039 non-null  float64\n",
            " 16  YEAR_BUILT                      23005 non-null  float64\n",
            " 17  TAX_CLASS_AT_TIME_OF_SALE       23040 non-null  int64  \n",
            " 18  BUILDING_CLASS_AT_TIME_OF_SALE  23040 non-null  object \n",
            " 19  SALE_PRICE                      23040 non-null  int64  \n",
            " 20  SALE_DATE                       23040 non-null  object \n",
            "dtypes: float64(7), int64(4), object(10)\n",
            "memory usage: 3.7+ MB\n"
          ],
          "name": "stdout"
        }
      ]
    },
    {
      "cell_type": "code",
      "metadata": {
        "id": "H2V4CBd23zOc",
        "colab_type": "code",
        "colab": {
          "base_uri": "https://localhost:8080/",
          "height": 235
        },
        "outputId": "c6883092-8eda-42a6-e9fc-b37b40727812"
      },
      "source": [
        "df['SALE_PRICE'].value_counts(), \"to check value counts for SALE_PRICE, I noticed some extrem low values\""
      ],
      "execution_count": 53,
      "outputs": [
        {
          "output_type": "execute_result",
          "data": {
            "text/plain": [
              "(0          6909\n",
              " 10          199\n",
              " 800000      125\n",
              " 750000      121\n",
              " 650000      120\n",
              "            ... \n",
              " 5236177       1\n",
              " 229000        1\n",
              " 397218        1\n",
              " 4112000       1\n",
              " 1751425       1\n",
              " Name: SALE_PRICE, Length: 3831, dtype: int64,\n",
              " 'to check value counts for SALE_PRICE, I noticed some extrem low values')"
            ]
          },
          "metadata": {
            "tags": []
          },
          "execution_count": 53
        }
      ]
    },
    {
      "cell_type": "code",
      "metadata": {
        "id": "5rxODTvwKcIf",
        "colab_type": "code",
        "colab": {}
      },
      "source": [
        "df = df[(df['BUILDING_CLASS_CATEGORY'] !='01 ONE FAMILY DWELLINGS') & (df['SALE_PRICE'] > 11)]"
      ],
      "execution_count": 54,
      "outputs": []
    },
    {
      "cell_type": "code",
      "metadata": {
        "id": "-B-i1AhC5xgz",
        "colab_type": "code",
        "colab": {
          "base_uri": "https://localhost:8080/",
          "height": 34
        },
        "outputId": "1b69a942-c3d6-4ed4-f4f8-5075b28df93a"
      },
      "source": [
        "df.shape"
      ],
      "execution_count": 55,
      "outputs": [
        {
          "output_type": "execute_result",
          "data": {
            "text/plain": [
              "(12590, 21)"
            ]
          },
          "metadata": {
            "tags": []
          },
          "execution_count": 55
        }
      ]
    },
    {
      "cell_type": "code",
      "metadata": {
        "id": "AmLWte7_K44C",
        "colab_type": "code",
        "colab": {
          "base_uri": "https://localhost:8080/",
          "height": 402
        },
        "outputId": "40cbf436-6930-4d9a-efcc-f516077b223b"
      },
      "source": [
        "df[['SALE_DATE',\"YEAR_BUILT\"]]"
      ],
      "execution_count": 56,
      "outputs": [
        {
          "output_type": "execute_result",
          "data": {
            "text/html": [
              "<div>\n",
              "<style scoped>\n",
              "    .dataframe tbody tr th:only-of-type {\n",
              "        vertical-align: middle;\n",
              "    }\n",
              "\n",
              "    .dataframe tbody tr th {\n",
              "        vertical-align: top;\n",
              "    }\n",
              "\n",
              "    .dataframe thead th {\n",
              "        text-align: right;\n",
              "    }\n",
              "</style>\n",
              "<table border=\"1\" class=\"dataframe\">\n",
              "  <thead>\n",
              "    <tr style=\"text-align: right;\">\n",
              "      <th></th>\n",
              "      <th>SALE_DATE</th>\n",
              "      <th>YEAR_BUILT</th>\n",
              "    </tr>\n",
              "  </thead>\n",
              "  <tbody>\n",
              "    <tr>\n",
              "      <th>65</th>\n",
              "      <td>01/02/2019</td>\n",
              "      <td>2013.0</td>\n",
              "    </tr>\n",
              "    <tr>\n",
              "      <th>66</th>\n",
              "      <td>01/02/2019</td>\n",
              "      <td>1960.0</td>\n",
              "    </tr>\n",
              "    <tr>\n",
              "      <th>67</th>\n",
              "      <td>01/02/2019</td>\n",
              "      <td>1925.0</td>\n",
              "    </tr>\n",
              "    <tr>\n",
              "      <th>70</th>\n",
              "      <td>01/02/2019</td>\n",
              "      <td>1901.0</td>\n",
              "    </tr>\n",
              "    <tr>\n",
              "      <th>71</th>\n",
              "      <td>01/02/2019</td>\n",
              "      <td>2004.0</td>\n",
              "    </tr>\n",
              "    <tr>\n",
              "      <th>...</th>\n",
              "      <td>...</td>\n",
              "      <td>...</td>\n",
              "    </tr>\n",
              "    <tr>\n",
              "      <th>23034</th>\n",
              "      <td>04/30/2019</td>\n",
              "      <td>1945.0</td>\n",
              "    </tr>\n",
              "    <tr>\n",
              "      <th>23036</th>\n",
              "      <td>04/30/2019</td>\n",
              "      <td>1929.0</td>\n",
              "    </tr>\n",
              "    <tr>\n",
              "      <th>23037</th>\n",
              "      <td>04/30/2019</td>\n",
              "      <td>1932.0</td>\n",
              "    </tr>\n",
              "    <tr>\n",
              "      <th>23038</th>\n",
              "      <td>04/30/2019</td>\n",
              "      <td>1931.0</td>\n",
              "    </tr>\n",
              "    <tr>\n",
              "      <th>23039</th>\n",
              "      <td>04/30/2019</td>\n",
              "      <td>1927.0</td>\n",
              "    </tr>\n",
              "  </tbody>\n",
              "</table>\n",
              "<p>12590 rows × 2 columns</p>\n",
              "</div>"
            ],
            "text/plain": [
              "        SALE_DATE  YEAR_BUILT\n",
              "65     01/02/2019      2013.0\n",
              "66     01/02/2019      1960.0\n",
              "67     01/02/2019      1925.0\n",
              "70     01/02/2019      1901.0\n",
              "71     01/02/2019      2004.0\n",
              "...           ...         ...\n",
              "23034  04/30/2019      1945.0\n",
              "23036  04/30/2019      1929.0\n",
              "23037  04/30/2019      1932.0\n",
              "23038  04/30/2019      1931.0\n",
              "23039  04/30/2019      1927.0\n",
              "\n",
              "[12590 rows x 2 columns]"
            ]
          },
          "metadata": {
            "tags": []
          },
          "execution_count": 56
        }
      ]
    },
    {
      "cell_type": "code",
      "metadata": {
        "id": "5xSRt-wJLa_9",
        "colab_type": "code",
        "colab": {}
      },
      "source": [
        "df['SALE_DATE'] = df['SALE_DATE'].astype('datetime64[ns]')"
      ],
      "execution_count": 57,
      "outputs": []
    },
    {
      "cell_type": "code",
      "metadata": {
        "id": "WqZr6Fwqnpp2",
        "colab_type": "code",
        "colab": {}
      },
      "source": [
        "df['LAND_SQUARE_FEET'] = df['LAND_SQUARE_FEET'].fillna(\"0\")"
      ],
      "execution_count": 58,
      "outputs": []
    },
    {
      "cell_type": "code",
      "metadata": {
        "id": "AlRNcd19pS1C",
        "colab_type": "code",
        "colab": {}
      },
      "source": [
        "# df[(df['LAND_SQUARE_FEET'])==\"x\"] \"just to check\""
      ],
      "execution_count": 59,
      "outputs": []
    },
    {
      "cell_type": "code",
      "metadata": {
        "id": "GRQ_AvcSl804",
        "colab_type": "code",
        "colab": {}
      },
      "source": [
        "df['LAND_SQUARE_FEET'] = [x.replace(\",\",\"\") for x in df['LAND_SQUARE_FEET']]\n",
        "# df['LAND_SQUARE_FEET'] = [x.replace(\"x\",'0') for x in df['LAND_SQUARE_FEET']]"
      ],
      "execution_count": 60,
      "outputs": []
    },
    {
      "cell_type": "code",
      "metadata": {
        "id": "nEDAtsoTuIKM",
        "colab_type": "code",
        "colab": {
          "base_uri": "https://localhost:8080/",
          "height": 235
        },
        "outputId": "4da5e1e3-e600-4ed6-81ae-3bc824f9b95e"
      },
      "source": [
        "df['LAND_SQUARE_FEET'].astype(float,copy=True), 'getting a error will come back to it'"
      ],
      "execution_count": 61,
      "outputs": [
        {
          "output_type": "execute_result",
          "data": {
            "text/plain": [
              "(65       18975.0\n",
              " 66           0.0\n",
              " 67           0.0\n",
              " 70       28335.0\n",
              " 71           0.0\n",
              "           ...   \n",
              " 23034     4000.0\n",
              " 23036        0.0\n",
              " 23037        0.0\n",
              " 23038     2078.0\n",
              " 23039    15151.0\n",
              " Name: LAND_SQUARE_FEET, Length: 12590, dtype: float64,\n",
              " 'getting a error will come back to it')"
            ]
          },
          "metadata": {
            "tags": []
          },
          "execution_count": 61
        }
      ]
    },
    {
      "cell_type": "code",
      "metadata": {
        "id": "ih4KTiw1seUD",
        "colab_type": "code",
        "colab": {}
      },
      "source": [
        "# [x for x in (x.replace(\",\",\"\") for x in df['LAND_SQUARE_FEET']) if x is not None] 'did not work'"
      ],
      "execution_count": 62,
      "outputs": []
    },
    {
      "cell_type": "code",
      "metadata": {
        "id": "i1kQq-plmdqN",
        "colab_type": "code",
        "colab": {
          "base_uri": "https://localhost:8080/",
          "height": 218
        },
        "outputId": "e2b67a57-1be4-4d9d-b1f1-46e8e128f8fb"
      },
      "source": [
        "df['LAND_SQUARE_FEET']"
      ],
      "execution_count": 63,
      "outputs": [
        {
          "output_type": "execute_result",
          "data": {
            "text/plain": [
              "65       18975\n",
              "66           0\n",
              "67           0\n",
              "70       28335\n",
              "71           0\n",
              "         ...  \n",
              "23034     4000\n",
              "23036        0\n",
              "23037        0\n",
              "23038     2078\n",
              "23039    15151\n",
              "Name: LAND_SQUARE_FEET, Length: 12590, dtype: object"
            ]
          },
          "metadata": {
            "tags": []
          },
          "execution_count": 63
        }
      ]
    },
    {
      "cell_type": "code",
      "metadata": {
        "id": "QihXu4t_L1Ru",
        "colab_type": "code",
        "colab": {
          "base_uri": "https://localhost:8080/",
          "height": 403
        },
        "outputId": "13b49e77-ac7a-4d2f-d9c1-6225d9e96722"
      },
      "source": [
        "display(df.isnull().sum())\n",
        "print(df.shape)"
      ],
      "execution_count": 64,
      "outputs": [
        {
          "output_type": "display_data",
          "data": {
            "text/plain": [
              "BOROUGH                               0\n",
              "NEIGHBORHOOD                          0\n",
              "BUILDING_CLASS_CATEGORY               0\n",
              "TAX_CLASS_AT_PRESENT                  1\n",
              "BLOCK                                 0\n",
              "LOT                                   0\n",
              "EASE-MENT                         12590\n",
              "BUILDING_CLASS_AT_PRESENT             1\n",
              "ADDRESS                               0\n",
              "APARTMENT_NUMBER                   8710\n",
              "ZIP_CODE                              1\n",
              "RESIDENTIAL_UNITS                     1\n",
              "COMMERCIAL_UNITS                      1\n",
              "TOTAL_UNITS                           1\n",
              "LAND_SQUARE_FEET                      0\n",
              "GROSS_SQUARE_FEET                     1\n",
              "YEAR_BUILT                           32\n",
              "TAX_CLASS_AT_TIME_OF_SALE             0\n",
              "BUILDING_CLASS_AT_TIME_OF_SALE        0\n",
              "SALE_PRICE                            0\n",
              "SALE_DATE                             0\n",
              "dtype: int64"
            ]
          },
          "metadata": {
            "tags": []
          }
        },
        {
          "output_type": "stream",
          "text": [
            "(12590, 21)\n"
          ],
          "name": "stdout"
        }
      ]
    },
    {
      "cell_type": "markdown",
      "metadata": {
        "id": "qd1TV4OoZDxK",
        "colab_type": "text"
      },
      "source": [
        "##One-hot encoding"
      ]
    },
    {
      "cell_type": "markdown",
      "metadata": {
        "id": "JdkkJbiUkD0U",
        "colab_type": "text"
      },
      "source": [
        "### feature selection"
      ]
    },
    {
      "cell_type": "code",
      "metadata": {
        "id": "5gZonf8ufTgT",
        "colab_type": "code",
        "colab": {}
      },
      "source": [
        "datatype = df.dtypes #pass dtypes of the df to variable"
      ],
      "execution_count": 65,
      "outputs": []
    },
    {
      "cell_type": "code",
      "metadata": {
        "id": "y4JInPDlgOxi",
        "colab_type": "code",
        "colab": {
          "base_uri": "https://localhost:8080/",
          "height": 168
        },
        "outputId": "a2074674-f890-4ba8-c693-a73fd17afcfa"
      },
      "source": [
        "datatype_cat = datatype[(datatype == 'object') | (datatype == 'category')].index.tolist() #return the columns with categorical and object\n",
        "datatype_cat"
      ],
      "execution_count": 66,
      "outputs": [
        {
          "output_type": "execute_result",
          "data": {
            "text/plain": [
              "['BOROUGH',\n",
              " 'NEIGHBORHOOD',\n",
              " 'BUILDING_CLASS_CATEGORY',\n",
              " 'TAX_CLASS_AT_PRESENT',\n",
              " 'BUILDING_CLASS_AT_PRESENT',\n",
              " 'ADDRESS',\n",
              " 'APARTMENT_NUMBER',\n",
              " 'LAND_SQUARE_FEET',\n",
              " 'BUILDING_CLASS_AT_TIME_OF_SALE']"
            ]
          },
          "metadata": {
            "tags": []
          },
          "execution_count": 66
        }
      ]
    },
    {
      "cell_type": "code",
      "metadata": {
        "id": "Qr1k7m-9gupp",
        "colab_type": "code",
        "colab": {
          "base_uri": "https://localhost:8080/",
          "height": 1000
        },
        "outputId": "f2f9c21a-38a2-4ab6-81fa-0fed30f237e1"
      },
      "source": [
        "for x in datatype_cat: #for loop to run value_counts to select features with low Cardinality, and drop Hight Cardinality features\n",
        "  print(f'{df[x].value_counts()}\\n')\n",
        "  print(f'count: {len(df[x].value_counts())}\\n')"
      ],
      "execution_count": 67,
      "outputs": [
        {
          "output_type": "stream",
          "text": [
            "3    3704\n",
            "1    3687\n",
            "4    3385\n",
            "2    1265\n",
            "5     549\n",
            "Name: BOROUGH, dtype: int64\n",
            "\n",
            "count: 5\n",
            "\n",
            "OTHER                      10190\n",
            "UPPER EAST SIDE (59-79)      381\n",
            "UPPER EAST SIDE (79-96)      338\n",
            "FLUSHING-NORTH               330\n",
            "UPPER WEST SIDE (59-79)      259\n",
            "BEDFORD STUYVESANT           256\n",
            "FOREST HILLS                 205\n",
            "ASTORIA                      174\n",
            "GRAMERCY                     159\n",
            "EAST NEW YORK                153\n",
            "BOROUGH PARK                 145\n",
            "Name: NEIGHBORHOOD, dtype: int64\n",
            "\n",
            "count: 11\n",
            "\n",
            "10 COOPS - ELEVATOR APARTMENTS                3042\n",
            "02 TWO FAMILY DWELLINGS                       2658\n",
            "13 CONDOS - ELEVATOR APARTMENTS               2462\n",
            "03 THREE FAMILY DWELLINGS                      751\n",
            "09 COOPS - WALKUP APARTMENTS                   612\n",
            "07 RENTALS - WALKUP APARTMENTS                 413\n",
            "15 CONDOS - 2-10 UNIT RESIDENTIAL              346\n",
            "04 TAX CLASS 1 CONDOS                          308\n",
            "44 CONDO PARKING                               288\n",
            "17 CONDO COOPS                                 266\n",
            "12 CONDOS - WALKUP APARTMENTS                  204\n",
            "05 TAX CLASS 1 VACANT LAND                     196\n",
            "22 STORE BUILDINGS                             162\n",
            "14 RENTALS - 4-10 UNIT                         103\n",
            "29 COMMERCIAL GARAGES                           92\n",
            "08 RENTALS - ELEVATOR APARTMENTS                81\n",
            "43 CONDO OFFICE BUILDINGS                       67\n",
            "30 WAREHOUSES                                   64\n",
            "21 OFFICE BUILDINGS                             63\n",
            "47 CONDO NON-BUSINESS STORAGE                   60\n",
            "31 COMMERCIAL VACANT LAND                       47\n",
            "46 CONDO STORE BUILDINGS                        38\n",
            "27 FACTORIES                                    35\n",
            "06 TAX CLASS 1 - OTHER                          31\n",
            "37 RELIGIOUS FACILITIES                         28\n",
            "11A CONDO-RENTALS                               25\n",
            "16 CONDOS - 2-10 UNIT WITH COMMERCIAL UNIT      24\n",
            "45 CONDO HOTELS                                 23\n",
            "41 TAX CLASS 4 - OTHER                          21\n",
            "28 COMMERCIAL CONDOS                            19\n",
            "33 EDUCATIONAL FACILITIES                       13\n",
            "32 HOSPITAL AND HEALTH FACILITIES               10\n",
            "26 OTHER HOTELS                                  6\n",
            "25 LUXURY HOTELS                                 6\n",
            "36 OUTDOOR RECREATIONAL FACILITIES               4\n",
            "49 CONDO WAREHOUSES/FACTORY/INDUS                4\n",
            "35 INDOOR PUBLIC AND CULTURAL FACILITIES         4\n",
            "34 THEATRES                                      4\n",
            "48 CONDO TERRACES/GARDENS/CABANAS                3\n",
            "23 LOFT BUILDINGS                                3\n",
            "38 ASYLUMS AND HOMES                             2\n",
            "39 TRANSPORTATION FACILITIES                     1\n",
            "42 CONDO CULTURAL/MEDICAL/EDUCATIONAL/ETC        1\n",
            "Name: BUILDING_CLASS_CATEGORY, dtype: int64\n",
            "\n",
            "count: 43\n",
            "\n",
            "2     6655\n",
            "1     3447\n",
            "4     1068\n",
            "2C     494\n",
            "2A     335\n",
            "1A     268\n",
            "1B     190\n",
            "2B      92\n",
            "1C      40\n",
            "Name: TAX_CLASS_AT_PRESENT, dtype: int64\n",
            "\n",
            "count: 9\n",
            "\n",
            "D4    2985\n",
            "R4    2482\n",
            "B2     874\n",
            "B1     773\n",
            "C0     750\n",
            "      ... \n",
            "R7       1\n",
            "Z4       1\n",
            "H9       1\n",
            "K3       1\n",
            "H7       1\n",
            "Name: BUILDING_CLASS_AT_PRESENT, Length: 123, dtype: int64\n",
            "\n",
            "count: 123\n",
            "\n",
            "100 JEROME STREET            6\n",
            "205-15 113TH AVENUE          5\n",
            "N/A BAY STREET               4\n",
            "N/A MELBA STREET             3\n",
            "N/A HURON STREET             3\n",
            "                            ..\n",
            "1140 FIFTH AVENUE, 11B       1\n",
            "630 BARLOW AVENUE            1\n",
            "1 LEXINGTON AVENUE, 9D       1\n",
            "104-66 47TH AVENUE           1\n",
            "1349 LEXINGTON AVENUE, 8F    1\n",
            "Name: ADDRESS, Length: 12508, dtype: int64\n",
            "\n",
            "count: 12508\n",
            "\n",
            "3A       69\n",
            "2A       63\n",
            "1        60\n",
            "4        59\n",
            "3        57\n",
            "         ..\n",
            "S1G       1\n",
            "PS12      1\n",
            "SU146     1\n",
            "PH2S      1\n",
            "9         1\n",
            "Name: APARTMENT_NUMBER, Length: 1354, dtype: int64\n",
            "\n",
            "count: 1354\n",
            "\n",
            "0       6266\n",
            "2500     450\n",
            "2000     403\n",
            "4000     230\n",
            "3000     122\n",
            "        ... \n",
            "1460       1\n",
            "4608       1\n",
            "6454       1\n",
            "2481       1\n",
            "3417       1\n",
            "Name: LAND_SQUARE_FEET, Length: 2182, dtype: int64\n",
            "\n",
            "count: 2182\n",
            "\n",
            "D4    2985\n",
            "R4    2462\n",
            "B2     872\n",
            "B1     773\n",
            "C0     751\n",
            "      ... \n",
            "P2       1\n",
            "H9       1\n",
            "M4       1\n",
            "Z4       1\n",
            "H7       1\n",
            "Name: BUILDING_CLASS_AT_TIME_OF_SALE, Length: 121, dtype: int64\n",
            "\n",
            "count: 121\n",
            "\n"
          ],
          "name": "stdout"
        }
      ]
    },
    {
      "cell_type": "markdown",
      "metadata": {
        "id": "6Q-4cFV8ksYE",
        "colab_type": "text"
      },
      "source": [
        "#droping columns"
      ]
    },
    {
      "cell_type": "code",
      "metadata": {
        "id": "Jo_PTTM6Z-Ee",
        "colab_type": "code",
        "colab": {
          "base_uri": "https://localhost:8080/",
          "height": 235
        },
        "outputId": "209f3f8a-38e8-43ee-fdbf-0f3ae1d1d4dd"
      },
      "source": [
        "df[\"LAND_SQUARE_FEET\"].value_counts(), '''even thought LAND_SQUARE_FEEt was int64 the one-hot is converting the index into columns, \n",
        " resulting in shape of ((9600, 1870), (2990, 1870))'''"
      ],
      "execution_count": 68,
      "outputs": [
        {
          "output_type": "execute_result",
          "data": {
            "text/plain": [
              "(0       6266\n",
              " 2500     450\n",
              " 2000     403\n",
              " 4000     230\n",
              " 3000     122\n",
              "         ... \n",
              " 1460       1\n",
              " 4608       1\n",
              " 6454       1\n",
              " 2481       1\n",
              " 3417       1\n",
              " Name: LAND_SQUARE_FEET, Length: 2182, dtype: int64,\n",
              " 'even thought LAND_SQUARE_FEEt was int64 the one-hot is converting the index into columns, \\n resulting in shape of ((9600, 1870), (2990, 1870))')"
            ]
          },
          "metadata": {
            "tags": []
          },
          "execution_count": 68
        }
      ]
    },
    {
      "cell_type": "code",
      "metadata": {
        "id": "E4cWP5bIkq1U",
        "colab_type": "code",
        "colab": {}
      },
      "source": [
        "df_nc= df.drop(['APARTMENT_NUMBER','EASE-MENT',\n",
        " 'BUILDING_CLASS_CATEGORY',\n",
        " 'BUILDING_CLASS_AT_PRESENT',\n",
        " 'ADDRESS',\n",
        " 'APARTMENT_NUMBER',\n",
        " 'BUILDING_CLASS_AT_TIME_OF_SALE','LAND_SQUARE_FEET'],axis=1)"
      ],
      "execution_count": 69,
      "outputs": []
    },
    {
      "cell_type": "code",
      "metadata": {
        "id": "mmHPin9Ke9Gc",
        "colab_type": "code",
        "colab": {}
      },
      "source": [
        "df_nc.dropna(inplace=True)"
      ],
      "execution_count": 70,
      "outputs": []
    },
    {
      "cell_type": "markdown",
      "metadata": {
        "id": "xLErUtmJU97J",
        "colab_type": "text"
      },
      "source": [
        "## Train & Test"
      ]
    },
    {
      "cell_type": "code",
      "metadata": {
        "id": "pCKY9F-SMF3Z",
        "colab_type": "code",
        "colab": {}
      },
      "source": [
        "train = df_nc[(df_nc['SALE_DATE'] < datetime.datetime(2019,4,1) )]\n",
        "test = df_nc[(df_nc['SALE_DATE'] > datetime.datetime(2019,3,31) )]"
      ],
      "execution_count": 71,
      "outputs": []
    },
    {
      "cell_type": "code",
      "metadata": {
        "id": "9dc0FA7_m-HF",
        "colab_type": "code",
        "colab": {}
      },
      "source": [
        "train1 = train.drop('SALE_PRICE',axis=1)\n",
        "test1 = test.drop('SALE_PRICE',axis=1)"
      ],
      "execution_count": 72,
      "outputs": []
    },
    {
      "cell_type": "markdown",
      "metadata": {
        "id": "3gJs-a3vVBf6",
        "colab_type": "text"
      },
      "source": [
        "###Train"
      ]
    },
    {
      "cell_type": "code",
      "metadata": {
        "id": "g5SBn2hQN8q3",
        "colab_type": "code",
        "colab": {
          "base_uri": "https://localhost:8080/",
          "height": 612
        },
        "outputId": "cf30eaa4-c513-49d6-ebfd-e0936a9bb0ad"
      },
      "source": [
        "print(train1.shape)\n",
        "display(train1.head())\n",
        "display(train1.tail())"
      ],
      "execution_count": 73,
      "outputs": [
        {
          "output_type": "stream",
          "text": [
            "(9595, 13)\n"
          ],
          "name": "stdout"
        },
        {
          "output_type": "display_data",
          "data": {
            "text/html": [
              "<div>\n",
              "<style scoped>\n",
              "    .dataframe tbody tr th:only-of-type {\n",
              "        vertical-align: middle;\n",
              "    }\n",
              "\n",
              "    .dataframe tbody tr th {\n",
              "        vertical-align: top;\n",
              "    }\n",
              "\n",
              "    .dataframe thead th {\n",
              "        text-align: right;\n",
              "    }\n",
              "</style>\n",
              "<table border=\"1\" class=\"dataframe\">\n",
              "  <thead>\n",
              "    <tr style=\"text-align: right;\">\n",
              "      <th></th>\n",
              "      <th>BOROUGH</th>\n",
              "      <th>NEIGHBORHOOD</th>\n",
              "      <th>TAX_CLASS_AT_PRESENT</th>\n",
              "      <th>BLOCK</th>\n",
              "      <th>LOT</th>\n",
              "      <th>ZIP_CODE</th>\n",
              "      <th>RESIDENTIAL_UNITS</th>\n",
              "      <th>COMMERCIAL_UNITS</th>\n",
              "      <th>TOTAL_UNITS</th>\n",
              "      <th>GROSS_SQUARE_FEET</th>\n",
              "      <th>YEAR_BUILT</th>\n",
              "      <th>TAX_CLASS_AT_TIME_OF_SALE</th>\n",
              "      <th>SALE_DATE</th>\n",
              "    </tr>\n",
              "  </thead>\n",
              "  <tbody>\n",
              "    <tr>\n",
              "      <th>65</th>\n",
              "      <td>1</td>\n",
              "      <td>OTHER</td>\n",
              "      <td>2</td>\n",
              "      <td>691</td>\n",
              "      <td>1130</td>\n",
              "      <td>10011.0</td>\n",
              "      <td>1.0</td>\n",
              "      <td>0.0</td>\n",
              "      <td>1.0</td>\n",
              "      <td>1077.0</td>\n",
              "      <td>2013.0</td>\n",
              "      <td>2</td>\n",
              "      <td>2019-01-02</td>\n",
              "    </tr>\n",
              "    <tr>\n",
              "      <th>66</th>\n",
              "      <td>1</td>\n",
              "      <td>OTHER</td>\n",
              "      <td>2</td>\n",
              "      <td>1347</td>\n",
              "      <td>18</td>\n",
              "      <td>10022.0</td>\n",
              "      <td>0.0</td>\n",
              "      <td>0.0</td>\n",
              "      <td>0.0</td>\n",
              "      <td>0.0</td>\n",
              "      <td>1960.0</td>\n",
              "      <td>2</td>\n",
              "      <td>2019-01-02</td>\n",
              "    </tr>\n",
              "    <tr>\n",
              "      <th>67</th>\n",
              "      <td>1</td>\n",
              "      <td>UPPER EAST SIDE (79-96)</td>\n",
              "      <td>2</td>\n",
              "      <td>1491</td>\n",
              "      <td>62</td>\n",
              "      <td>10075.0</td>\n",
              "      <td>0.0</td>\n",
              "      <td>0.0</td>\n",
              "      <td>0.0</td>\n",
              "      <td>0.0</td>\n",
              "      <td>1925.0</td>\n",
              "      <td>2</td>\n",
              "      <td>2019-01-02</td>\n",
              "    </tr>\n",
              "    <tr>\n",
              "      <th>70</th>\n",
              "      <td>1</td>\n",
              "      <td>UPPER WEST SIDE (59-79)</td>\n",
              "      <td>2</td>\n",
              "      <td>1167</td>\n",
              "      <td>1272</td>\n",
              "      <td>10023.0</td>\n",
              "      <td>1.0</td>\n",
              "      <td>0.0</td>\n",
              "      <td>1.0</td>\n",
              "      <td>545.0</td>\n",
              "      <td>1901.0</td>\n",
              "      <td>2</td>\n",
              "      <td>2019-01-02</td>\n",
              "    </tr>\n",
              "    <tr>\n",
              "      <th>71</th>\n",
              "      <td>1</td>\n",
              "      <td>UPPER WEST SIDE (59-79)</td>\n",
              "      <td>2</td>\n",
              "      <td>1171</td>\n",
              "      <td>2200</td>\n",
              "      <td>10069.0</td>\n",
              "      <td>1.0</td>\n",
              "      <td>0.0</td>\n",
              "      <td>1.0</td>\n",
              "      <td>827.0</td>\n",
              "      <td>2004.0</td>\n",
              "      <td>2</td>\n",
              "      <td>2019-01-02</td>\n",
              "    </tr>\n",
              "  </tbody>\n",
              "</table>\n",
              "</div>"
            ],
            "text/plain": [
              "   BOROUGH             NEIGHBORHOOD  ... TAX_CLASS_AT_TIME_OF_SALE  SALE_DATE\n",
              "65       1                    OTHER  ...                         2 2019-01-02\n",
              "66       1                    OTHER  ...                         2 2019-01-02\n",
              "67       1  UPPER EAST SIDE (79-96)  ...                         2 2019-01-02\n",
              "70       1  UPPER WEST SIDE (59-79)  ...                         2 2019-01-02\n",
              "71       1  UPPER WEST SIDE (59-79)  ...                         2 2019-01-02\n",
              "\n",
              "[5 rows x 13 columns]"
            ]
          },
          "metadata": {
            "tags": []
          }
        },
        {
          "output_type": "display_data",
          "data": {
            "text/html": [
              "<div>\n",
              "<style scoped>\n",
              "    .dataframe tbody tr th:only-of-type {\n",
              "        vertical-align: middle;\n",
              "    }\n",
              "\n",
              "    .dataframe tbody tr th {\n",
              "        vertical-align: top;\n",
              "    }\n",
              "\n",
              "    .dataframe thead th {\n",
              "        text-align: right;\n",
              "    }\n",
              "</style>\n",
              "<table border=\"1\" class=\"dataframe\">\n",
              "  <thead>\n",
              "    <tr style=\"text-align: right;\">\n",
              "      <th></th>\n",
              "      <th>BOROUGH</th>\n",
              "      <th>NEIGHBORHOOD</th>\n",
              "      <th>TAX_CLASS_AT_PRESENT</th>\n",
              "      <th>BLOCK</th>\n",
              "      <th>LOT</th>\n",
              "      <th>ZIP_CODE</th>\n",
              "      <th>RESIDENTIAL_UNITS</th>\n",
              "      <th>COMMERCIAL_UNITS</th>\n",
              "      <th>TOTAL_UNITS</th>\n",
              "      <th>GROSS_SQUARE_FEET</th>\n",
              "      <th>YEAR_BUILT</th>\n",
              "      <th>TAX_CLASS_AT_TIME_OF_SALE</th>\n",
              "      <th>SALE_DATE</th>\n",
              "    </tr>\n",
              "  </thead>\n",
              "  <tbody>\n",
              "    <tr>\n",
              "      <th>18121</th>\n",
              "      <td>5</td>\n",
              "      <td>OTHER</td>\n",
              "      <td>1</td>\n",
              "      <td>5378</td>\n",
              "      <td>13</td>\n",
              "      <td>10312.0</td>\n",
              "      <td>1.0</td>\n",
              "      <td>0.0</td>\n",
              "      <td>1.0</td>\n",
              "      <td>2833.0</td>\n",
              "      <td>2018.0</td>\n",
              "      <td>1</td>\n",
              "      <td>2019-03-29</td>\n",
              "    </tr>\n",
              "    <tr>\n",
              "      <th>18122</th>\n",
              "      <td>5</td>\n",
              "      <td>OTHER</td>\n",
              "      <td>2</td>\n",
              "      <td>3585</td>\n",
              "      <td>1246</td>\n",
              "      <td>10306.0</td>\n",
              "      <td>1.0</td>\n",
              "      <td>0.0</td>\n",
              "      <td>1.0</td>\n",
              "      <td>850.0</td>\n",
              "      <td>1988.0</td>\n",
              "      <td>2</td>\n",
              "      <td>2019-03-29</td>\n",
              "    </tr>\n",
              "    <tr>\n",
              "      <th>18126</th>\n",
              "      <td>5</td>\n",
              "      <td>OTHER</td>\n",
              "      <td>1</td>\n",
              "      <td>4500</td>\n",
              "      <td>167</td>\n",
              "      <td>10308.0</td>\n",
              "      <td>2.0</td>\n",
              "      <td>0.0</td>\n",
              "      <td>2.0</td>\n",
              "      <td>2920.0</td>\n",
              "      <td>1984.0</td>\n",
              "      <td>1</td>\n",
              "      <td>2019-03-29</td>\n",
              "    </tr>\n",
              "    <tr>\n",
              "      <th>18138</th>\n",
              "      <td>5</td>\n",
              "      <td>OTHER</td>\n",
              "      <td>1</td>\n",
              "      <td>236</td>\n",
              "      <td>88</td>\n",
              "      <td>10310.0</td>\n",
              "      <td>2.0</td>\n",
              "      <td>0.0</td>\n",
              "      <td>2.0</td>\n",
              "      <td>2048.0</td>\n",
              "      <td>1920.0</td>\n",
              "      <td>1</td>\n",
              "      <td>2019-03-29</td>\n",
              "    </tr>\n",
              "    <tr>\n",
              "      <th>18144</th>\n",
              "      <td>2</td>\n",
              "      <td>OTHER</td>\n",
              "      <td>1</td>\n",
              "      <td>3812</td>\n",
              "      <td>52</td>\n",
              "      <td>10462.0</td>\n",
              "      <td>2.0</td>\n",
              "      <td>0.0</td>\n",
              "      <td>2.0</td>\n",
              "      <td>2982.0</td>\n",
              "      <td>1920.0</td>\n",
              "      <td>1</td>\n",
              "      <td>2019-03-30</td>\n",
              "    </tr>\n",
              "  </tbody>\n",
              "</table>\n",
              "</div>"
            ],
            "text/plain": [
              "      BOROUGH NEIGHBORHOOD  ... TAX_CLASS_AT_TIME_OF_SALE  SALE_DATE\n",
              "18121       5        OTHER  ...                         1 2019-03-29\n",
              "18122       5        OTHER  ...                         2 2019-03-29\n",
              "18126       5        OTHER  ...                         1 2019-03-29\n",
              "18138       5        OTHER  ...                         1 2019-03-29\n",
              "18144       2        OTHER  ...                         1 2019-03-30\n",
              "\n",
              "[5 rows x 13 columns]"
            ]
          },
          "metadata": {
            "tags": []
          }
        }
      ]
    },
    {
      "cell_type": "markdown",
      "metadata": {
        "id": "fDFH4NWOVFSh",
        "colab_type": "text"
      },
      "source": [
        "###Test"
      ]
    },
    {
      "cell_type": "code",
      "metadata": {
        "id": "boF5LhDZOHR7",
        "colab_type": "code",
        "colab": {
          "base_uri": "https://localhost:8080/",
          "height": 578
        },
        "outputId": "62671137-003a-46d9-e222-ee1c2adcbcc6"
      },
      "source": [
        "print(test1.shape)\n",
        "display(test1.head())\n",
        "display(test1.tail())"
      ],
      "execution_count": 74,
      "outputs": [
        {
          "output_type": "stream",
          "text": [
            "(2963, 13)\n"
          ],
          "name": "stdout"
        },
        {
          "output_type": "display_data",
          "data": {
            "text/html": [
              "<div>\n",
              "<style scoped>\n",
              "    .dataframe tbody tr th:only-of-type {\n",
              "        vertical-align: middle;\n",
              "    }\n",
              "\n",
              "    .dataframe tbody tr th {\n",
              "        vertical-align: top;\n",
              "    }\n",
              "\n",
              "    .dataframe thead th {\n",
              "        text-align: right;\n",
              "    }\n",
              "</style>\n",
              "<table border=\"1\" class=\"dataframe\">\n",
              "  <thead>\n",
              "    <tr style=\"text-align: right;\">\n",
              "      <th></th>\n",
              "      <th>BOROUGH</th>\n",
              "      <th>NEIGHBORHOOD</th>\n",
              "      <th>TAX_CLASS_AT_PRESENT</th>\n",
              "      <th>BLOCK</th>\n",
              "      <th>LOT</th>\n",
              "      <th>ZIP_CODE</th>\n",
              "      <th>RESIDENTIAL_UNITS</th>\n",
              "      <th>COMMERCIAL_UNITS</th>\n",
              "      <th>TOTAL_UNITS</th>\n",
              "      <th>GROSS_SQUARE_FEET</th>\n",
              "      <th>YEAR_BUILT</th>\n",
              "      <th>TAX_CLASS_AT_TIME_OF_SALE</th>\n",
              "      <th>SALE_DATE</th>\n",
              "    </tr>\n",
              "  </thead>\n",
              "  <tbody>\n",
              "    <tr>\n",
              "      <th>18167</th>\n",
              "      <td>1</td>\n",
              "      <td>OTHER</td>\n",
              "      <td>2</td>\n",
              "      <td>695</td>\n",
              "      <td>1562</td>\n",
              "      <td>10011.0</td>\n",
              "      <td>1.0</td>\n",
              "      <td>0.0</td>\n",
              "      <td>1.0</td>\n",
              "      <td>670.0</td>\n",
              "      <td>2005.0</td>\n",
              "      <td>2</td>\n",
              "      <td>2019-04-01</td>\n",
              "    </tr>\n",
              "    <tr>\n",
              "      <th>18168</th>\n",
              "      <td>1</td>\n",
              "      <td>OTHER</td>\n",
              "      <td>2</td>\n",
              "      <td>767</td>\n",
              "      <td>1609</td>\n",
              "      <td>10011.0</td>\n",
              "      <td>1.0</td>\n",
              "      <td>0.0</td>\n",
              "      <td>13.0</td>\n",
              "      <td>36835.0</td>\n",
              "      <td>1912.0</td>\n",
              "      <td>2</td>\n",
              "      <td>2019-04-01</td>\n",
              "    </tr>\n",
              "    <tr>\n",
              "      <th>18169</th>\n",
              "      <td>1</td>\n",
              "      <td>OTHER</td>\n",
              "      <td>2</td>\n",
              "      <td>767</td>\n",
              "      <td>1612</td>\n",
              "      <td>10011.0</td>\n",
              "      <td>1.0</td>\n",
              "      <td>0.0</td>\n",
              "      <td>13.0</td>\n",
              "      <td>36835.0</td>\n",
              "      <td>1912.0</td>\n",
              "      <td>2</td>\n",
              "      <td>2019-04-01</td>\n",
              "    </tr>\n",
              "    <tr>\n",
              "      <th>18170</th>\n",
              "      <td>1</td>\n",
              "      <td>OTHER</td>\n",
              "      <td>2</td>\n",
              "      <td>721</td>\n",
              "      <td>1008</td>\n",
              "      <td>10011.0</td>\n",
              "      <td>0.0</td>\n",
              "      <td>0.0</td>\n",
              "      <td>0.0</td>\n",
              "      <td>0.0</td>\n",
              "      <td>1932.0</td>\n",
              "      <td>2</td>\n",
              "      <td>2019-04-01</td>\n",
              "    </tr>\n",
              "    <tr>\n",
              "      <th>18172</th>\n",
              "      <td>1</td>\n",
              "      <td>OTHER</td>\n",
              "      <td>2C</td>\n",
              "      <td>145</td>\n",
              "      <td>1203</td>\n",
              "      <td>10013.0</td>\n",
              "      <td>1.0</td>\n",
              "      <td>0.0</td>\n",
              "      <td>1.0</td>\n",
              "      <td>1297.0</td>\n",
              "      <td>1920.0</td>\n",
              "      <td>2</td>\n",
              "      <td>2019-04-01</td>\n",
              "    </tr>\n",
              "  </tbody>\n",
              "</table>\n",
              "</div>"
            ],
            "text/plain": [
              "      BOROUGH NEIGHBORHOOD  ... TAX_CLASS_AT_TIME_OF_SALE  SALE_DATE\n",
              "18167       1        OTHER  ...                         2 2019-04-01\n",
              "18168       1        OTHER  ...                         2 2019-04-01\n",
              "18169       1        OTHER  ...                         2 2019-04-01\n",
              "18170       1        OTHER  ...                         2 2019-04-01\n",
              "18172       1        OTHER  ...                         2 2019-04-01\n",
              "\n",
              "[5 rows x 13 columns]"
            ]
          },
          "metadata": {
            "tags": []
          }
        },
        {
          "output_type": "display_data",
          "data": {
            "text/html": [
              "<div>\n",
              "<style scoped>\n",
              "    .dataframe tbody tr th:only-of-type {\n",
              "        vertical-align: middle;\n",
              "    }\n",
              "\n",
              "    .dataframe tbody tr th {\n",
              "        vertical-align: top;\n",
              "    }\n",
              "\n",
              "    .dataframe thead th {\n",
              "        text-align: right;\n",
              "    }\n",
              "</style>\n",
              "<table border=\"1\" class=\"dataframe\">\n",
              "  <thead>\n",
              "    <tr style=\"text-align: right;\">\n",
              "      <th></th>\n",
              "      <th>BOROUGH</th>\n",
              "      <th>NEIGHBORHOOD</th>\n",
              "      <th>TAX_CLASS_AT_PRESENT</th>\n",
              "      <th>BLOCK</th>\n",
              "      <th>LOT</th>\n",
              "      <th>ZIP_CODE</th>\n",
              "      <th>RESIDENTIAL_UNITS</th>\n",
              "      <th>COMMERCIAL_UNITS</th>\n",
              "      <th>TOTAL_UNITS</th>\n",
              "      <th>GROSS_SQUARE_FEET</th>\n",
              "      <th>YEAR_BUILT</th>\n",
              "      <th>TAX_CLASS_AT_TIME_OF_SALE</th>\n",
              "      <th>SALE_DATE</th>\n",
              "    </tr>\n",
              "  </thead>\n",
              "  <tbody>\n",
              "    <tr>\n",
              "      <th>23034</th>\n",
              "      <td>4</td>\n",
              "      <td>OTHER</td>\n",
              "      <td>1</td>\n",
              "      <td>12536</td>\n",
              "      <td>38</td>\n",
              "      <td>11434.0</td>\n",
              "      <td>2.0</td>\n",
              "      <td>0.0</td>\n",
              "      <td>2.0</td>\n",
              "      <td>2136.0</td>\n",
              "      <td>1945.0</td>\n",
              "      <td>1</td>\n",
              "      <td>2019-04-30</td>\n",
              "    </tr>\n",
              "    <tr>\n",
              "      <th>23036</th>\n",
              "      <td>4</td>\n",
              "      <td>OTHER</td>\n",
              "      <td>2</td>\n",
              "      <td>169</td>\n",
              "      <td>29</td>\n",
              "      <td>11104.0</td>\n",
              "      <td>0.0</td>\n",
              "      <td>0.0</td>\n",
              "      <td>0.0</td>\n",
              "      <td>0.0</td>\n",
              "      <td>1929.0</td>\n",
              "      <td>2</td>\n",
              "      <td>2019-04-30</td>\n",
              "    </tr>\n",
              "    <tr>\n",
              "      <th>23037</th>\n",
              "      <td>4</td>\n",
              "      <td>OTHER</td>\n",
              "      <td>2</td>\n",
              "      <td>131</td>\n",
              "      <td>4</td>\n",
              "      <td>11377.0</td>\n",
              "      <td>0.0</td>\n",
              "      <td>0.0</td>\n",
              "      <td>0.0</td>\n",
              "      <td>0.0</td>\n",
              "      <td>1932.0</td>\n",
              "      <td>2</td>\n",
              "      <td>2019-04-30</td>\n",
              "    </tr>\n",
              "    <tr>\n",
              "      <th>23038</th>\n",
              "      <td>4</td>\n",
              "      <td>OTHER</td>\n",
              "      <td>1</td>\n",
              "      <td>8932</td>\n",
              "      <td>18</td>\n",
              "      <td>11421.0</td>\n",
              "      <td>2.0</td>\n",
              "      <td>1.0</td>\n",
              "      <td>3.0</td>\n",
              "      <td>2200.0</td>\n",
              "      <td>1931.0</td>\n",
              "      <td>1</td>\n",
              "      <td>2019-04-30</td>\n",
              "    </tr>\n",
              "    <tr>\n",
              "      <th>23039</th>\n",
              "      <td>4</td>\n",
              "      <td>OTHER</td>\n",
              "      <td>2</td>\n",
              "      <td>1216</td>\n",
              "      <td>1161</td>\n",
              "      <td>11377.0</td>\n",
              "      <td>1.0</td>\n",
              "      <td>0.0</td>\n",
              "      <td>85.0</td>\n",
              "      <td>854.0</td>\n",
              "      <td>1927.0</td>\n",
              "      <td>2</td>\n",
              "      <td>2019-04-30</td>\n",
              "    </tr>\n",
              "  </tbody>\n",
              "</table>\n",
              "</div>"
            ],
            "text/plain": [
              "      BOROUGH NEIGHBORHOOD  ... TAX_CLASS_AT_TIME_OF_SALE  SALE_DATE\n",
              "23034       4        OTHER  ...                         1 2019-04-30\n",
              "23036       4        OTHER  ...                         2 2019-04-30\n",
              "23037       4        OTHER  ...                         2 2019-04-30\n",
              "23038       4        OTHER  ...                         1 2019-04-30\n",
              "23039       4        OTHER  ...                         2 2019-04-30\n",
              "\n",
              "[5 rows x 13 columns]"
            ]
          },
          "metadata": {
            "tags": []
          }
        }
      ]
    },
    {
      "cell_type": "markdown",
      "metadata": {
        "id": "o28GREBOknAR",
        "colab_type": "text"
      },
      "source": [
        "*italicized text*##One hot"
      ]
    },
    {
      "cell_type": "code",
      "metadata": {
        "id": "F415FN37exQN",
        "colab_type": "code",
        "colab": {}
      },
      "source": [
        "import category_encoders as ce"
      ],
      "execution_count": 75,
      "outputs": []
    },
    {
      "cell_type": "code",
      "metadata": {
        "id": "KeSO70PUZCwH",
        "colab_type": "code",
        "colab": {}
      },
      "source": [
        "encoder = ce.OneHotEncoder(use_cat_names=True)"
      ],
      "execution_count": 76,
      "outputs": []
    },
    {
      "cell_type": "code",
      "metadata": {
        "id": "SFPnL1aaakuF",
        "colab_type": "code",
        "colab": {}
      },
      "source": [
        "x_train = encoder.fit_transform(train1)"
      ],
      "execution_count": 77,
      "outputs": []
    },
    {
      "cell_type": "code",
      "metadata": {
        "id": "iqqea2YWceU_",
        "colab_type": "code",
        "colab": {}
      },
      "source": [
        "x_test = encoder.transform(test1)"
      ],
      "execution_count": 78,
      "outputs": []
    },
    {
      "cell_type": "code",
      "metadata": {
        "id": "WxNf9Fo5cpW-",
        "colab_type": "code",
        "colab": {
          "base_uri": "https://localhost:8080/",
          "height": 34
        },
        "outputId": "2a6e735a-6c08-4874-fda5-fb5b104eb07e"
      },
      "source": [
        "x_train.shape, x_test.shape"
      ],
      "execution_count": 79,
      "outputs": [
        {
          "output_type": "execute_result",
          "data": {
            "text/plain": [
              "((9595, 35), (2963, 35))"
            ]
          },
          "metadata": {
            "tags": []
          },
          "execution_count": 79
        }
      ]
    },
    {
      "cell_type": "code",
      "metadata": {
        "id": "pxi1VbBLfuRl",
        "colab_type": "code",
        "colab": {}
      },
      "source": [
        "# x_train.drop(\"SALE_DATE\",axis=1,inplace=True)"
      ],
      "execution_count": 80,
      "outputs": []
    },
    {
      "cell_type": "code",
      "metadata": {
        "id": "-txN3yv4fuQW",
        "colab_type": "code",
        "colab": {}
      },
      "source": [
        "# x_test.drop(\"SALE_DATE\",axis=1,inplace=True)"
      ],
      "execution_count": 81,
      "outputs": []
    },
    {
      "cell_type": "code",
      "metadata": {
        "id": "bEmrgCWOmR4S",
        "colab_type": "code",
        "colab": {}
      },
      "source": [
        "y_train = train['SALE_PRICE']"
      ],
      "execution_count": 82,
      "outputs": []
    },
    {
      "cell_type": "code",
      "metadata": {
        "id": "xy2uNC0h__ZS",
        "colab_type": "code",
        "colab": {}
      },
      "source": [
        "y_test = test['SALE_PRICE']"
      ],
      "execution_count": 123,
      "outputs": []
    },
    {
      "cell_type": "code",
      "metadata": {
        "id": "ukrxKZ8WlIpE",
        "colab_type": "code",
        "colab": {}
      },
      "source": [
        "from sklearn.feature_selection import SelectKBest, f_regression"
      ],
      "execution_count": 83,
      "outputs": []
    },
    {
      "cell_type": "code",
      "metadata": {
        "id": "3xgMG60xl7QP",
        "colab_type": "code",
        "colab": {}
      },
      "source": [
        "selector = SelectKBest(score_func=f_regression, k=13)"
      ],
      "execution_count": 84,
      "outputs": []
    },
    {
      "cell_type": "code",
      "metadata": {
        "id": "1pOii2dXmJZU",
        "colab_type": "code",
        "colab": {}
      },
      "source": [
        "x_train_selected = selector.fit_transform(x_train.drop('SALE_DATE',axis=1),y_train)"
      ],
      "execution_count": 86,
      "outputs": []
    },
    {
      "cell_type": "code",
      "metadata": {
        "id": "5L_Mlq_epBLo",
        "colab_type": "code",
        "colab": {}
      },
      "source": [
        "x_test_selected = selector.transform(x_test.drop('SALE_DATE',axis=1))"
      ],
      "execution_count": 87,
      "outputs": []
    },
    {
      "cell_type": "code",
      "metadata": {
        "id": "opW2csW9pPbY",
        "colab_type": "code",
        "colab": {
          "base_uri": "https://localhost:8080/",
          "height": 386
        },
        "outputId": "59770ea2-a697-49b1-8953-6bab5e7c19ba"
      },
      "source": [
        "print(f'''x_train_selected:\n",
        "\\n \n",
        "{x_train_selected}, \n",
        "\\n\n",
        "x_test_selected:\n",
        "\\n\n",
        "{x_train_selected}''')"
      ],
      "execution_count": 97,
      "outputs": [
        {
          "output_type": "stream",
          "text": [
            "x_train_selected:\n",
            "\n",
            " \n",
            "[[1.000e+00 0.000e+00 0.000e+00 ... 1.000e+00 1.077e+03 2.000e+00]\n",
            " [1.000e+00 0.000e+00 0.000e+00 ... 0.000e+00 0.000e+00 2.000e+00]\n",
            " [1.000e+00 0.000e+00 0.000e+00 ... 0.000e+00 0.000e+00 2.000e+00]\n",
            " ...\n",
            " [0.000e+00 0.000e+00 0.000e+00 ... 2.000e+00 2.920e+03 1.000e+00]\n",
            " [0.000e+00 0.000e+00 0.000e+00 ... 2.000e+00 2.048e+03 1.000e+00]\n",
            " [0.000e+00 0.000e+00 0.000e+00 ... 2.000e+00 2.982e+03 1.000e+00]], \n",
            "\n",
            "\n",
            "x_test_selected:\n",
            "\n",
            "\n",
            "[[1.000e+00 0.000e+00 0.000e+00 ... 1.000e+00 1.077e+03 2.000e+00]\n",
            " [1.000e+00 0.000e+00 0.000e+00 ... 0.000e+00 0.000e+00 2.000e+00]\n",
            " [1.000e+00 0.000e+00 0.000e+00 ... 0.000e+00 0.000e+00 2.000e+00]\n",
            " ...\n",
            " [0.000e+00 0.000e+00 0.000e+00 ... 2.000e+00 2.920e+03 1.000e+00]\n",
            " [0.000e+00 0.000e+00 0.000e+00 ... 2.000e+00 2.048e+03 1.000e+00]\n",
            " [0.000e+00 0.000e+00 0.000e+00 ... 2.000e+00 2.982e+03 1.000e+00]]\n"
          ],
          "name": "stdout"
        }
      ]
    },
    {
      "cell_type": "code",
      "metadata": {
        "id": "HMTA3s_sqJUh",
        "colab_type": "code",
        "colab": {
          "base_uri": "https://localhost:8080/",
          "height": 70
        },
        "outputId": "a4ab830c-c48b-42c0-9fe8-62274baf2ad5"
      },
      "source": [
        "selected_mask = selector.get_support()\n",
        "all_names = x_train.drop('SALE_DATE',axis=1).columns\n",
        "selected_names = all_names[~selected_mask]\n",
        "\n",
        "print(\"Feature selected\")\n",
        "feature_selected = []\n",
        "for name in selected_names:\n",
        "  feature_selected.append(name)\n",
        "print(feature_selected)"
      ],
      "execution_count": 104,
      "outputs": [
        {
          "output_type": "stream",
          "text": [
            "Feature selected\n",
            "['BOROUGH_2', 'BOROUGH_5', 'NEIGHBORHOOD_OTHER', 'NEIGHBORHOOD_UPPER EAST SIDE (79-96)', 'NEIGHBORHOOD_UPPER WEST SIDE (59-79)', 'NEIGHBORHOOD_BEDFORD STUYVESANT', 'NEIGHBORHOOD_EAST NEW YORK', 'NEIGHBORHOOD_ASTORIA', 'NEIGHBORHOOD_FLUSHING-NORTH', 'NEIGHBORHOOD_GRAMERCY', 'NEIGHBORHOOD_UPPER EAST SIDE (59-79)', 'NEIGHBORHOOD_BOROUGH PARK', 'NEIGHBORHOOD_FOREST HILLS', 'TAX_CLASS_AT_PRESENT_2B', 'TAX_CLASS_AT_PRESENT_2A', 'TAX_CLASS_AT_PRESENT_1B', 'TAX_CLASS_AT_PRESENT_1A', 'TAX_CLASS_AT_PRESENT_2C', 'TAX_CLASS_AT_PRESENT_1C', 'LOT', 'YEAR_BUILT']\n"
          ],
          "name": "stdout"
        }
      ]
    },
    {
      "cell_type": "code",
      "metadata": {
        "id": "2Qt1Df0o40tl",
        "colab_type": "code",
        "colab": {}
      },
      "source": [
        "from sklearn.linear_model import Ridge"
      ],
      "execution_count": 260,
      "outputs": []
    },
    {
      "cell_type": "code",
      "metadata": {
        "id": "8Do5eFft40su",
        "colab_type": "code",
        "colab": {}
      },
      "source": [
        "my_ridge = Ridge(alpha=10,normalize=True)"
      ],
      "execution_count": 397,
      "outputs": []
    },
    {
      "cell_type": "code",
      "metadata": {
        "id": "gTW5WdQi40rC",
        "colab_type": "code",
        "colab": {
          "base_uri": "https://localhost:8080/",
          "height": 50
        },
        "outputId": "541026dd-b234-49d7-9b71-153d7686ad19"
      },
      "source": [
        "my_ridge.fit(x_train.drop(\"SALE_DATE\",axis=1), y_train)"
      ],
      "execution_count": 398,
      "outputs": [
        {
          "output_type": "execute_result",
          "data": {
            "text/plain": [
              "Ridge(alpha=10, copy_X=True, fit_intercept=True, max_iter=None, normalize=True,\n",
              "      random_state=None, solver='auto', tol=0.001)"
            ]
          },
          "metadata": {
            "tags": []
          },
          "execution_count": 398
        }
      ]
    },
    {
      "cell_type": "code",
      "metadata": {
        "id": "BhQHsB6K-S1g",
        "colab_type": "code",
        "colab": {
          "base_uri": "https://localhost:8080/",
          "height": 50
        },
        "outputId": "39d77766-0329-458d-fdff-4ba371d62bef"
      },
      "source": [
        "y_pred = my_ridge.predict(x_test.drop(\"SALE_DATE\",axis=1))\n",
        "y_pred"
      ],
      "execution_count": 399,
      "outputs": [
        {
          "output_type": "execute_result",
          "data": {
            "text/plain": [
              "array([2202714.10558275, 4244136.8848287 , 4244094.23456456, ...,\n",
              "       1789340.51778414, 1648460.54793516, 4274458.53487181])"
            ]
          },
          "metadata": {
            "tags": []
          },
          "execution_count": 399
        }
      ]
    },
    {
      "cell_type": "code",
      "metadata": {
        "id": "2Z5-O6q1-zcN",
        "colab_type": "code",
        "colab": {}
      },
      "source": [
        "from sklearn.metrics import mean_absolute_error, mean_squared_error, r2_score"
      ],
      "execution_count": 400,
      "outputs": []
    },
    {
      "cell_type": "code",
      "metadata": {
        "id": "7uWmg91PCGoM",
        "colab_type": "code",
        "colab": {
          "base_uri": "https://localhost:8080/",
          "height": 34
        },
        "outputId": "54f9c1ff-7ba1-4994-dba7-fc450c6ab904"
      },
      "source": [
        "r2_score(y_test, y_pred)"
      ],
      "execution_count": 401,
      "outputs": [
        {
          "output_type": "execute_result",
          "data": {
            "text/plain": [
              "0.09825411586535271"
            ]
          },
          "metadata": {
            "tags": []
          },
          "execution_count": 401
        }
      ]
    },
    {
      "cell_type": "code",
      "metadata": {
        "id": "qYSTV7bk_5OJ",
        "colab_type": "code",
        "colab": {
          "base_uri": "https://localhost:8080/",
          "height": 34
        },
        "outputId": "9505be51-842b-4a88-b197-2f32fb0dc0fa"
      },
      "source": [
        "mae_ridge = mean_absolute_error(y_test, y_pred)\n",
        "mae_ridge"
      ],
      "execution_count": 402,
      "outputs": [
        {
          "output_type": "execute_result",
          "data": {
            "text/plain": [
              "2609597.1946393712"
            ]
          },
          "metadata": {
            "tags": []
          },
          "execution_count": 402
        }
      ]
    },
    {
      "cell_type": "code",
      "metadata": {
        "id": "C1N6u3XyBMAl",
        "colab_type": "code",
        "colab": {
          "base_uri": "https://localhost:8080/",
          "height": 34
        },
        "outputId": "94b05fc4-5848-4cf4-bfc5-1b6f4b42a1fa"
      },
      "source": [
        "test['SALE_PRICE'].mean(), train['SALE_PRICE'].mean()"
      ],
      "execution_count": 403,
      "outputs": [
        {
          "output_type": "execute_result",
          "data": {
            "text/plain": [
              "(2672575.98481269, 2109090.015737363)"
            ]
          },
          "metadata": {
            "tags": []
          },
          "execution_count": 403
        }
      ]
    },
    {
      "cell_type": "code",
      "metadata": {
        "id": "QkeF1oSGFNx7",
        "colab_type": "code",
        "colab": {}
      },
      "source": [
        "x_train1 = x_train[feature_selected]\n",
        "x_test1 = x_test[feature_selected]"
      ],
      "execution_count": 404,
      "outputs": []
    },
    {
      "cell_type": "code",
      "metadata": {
        "id": "L3fA8j88FoYI",
        "colab_type": "code",
        "colab": {}
      },
      "source": [
        "my_ridge = Ridge(alpha=.1,normalize=True)"
      ],
      "execution_count": 440,
      "outputs": []
    },
    {
      "cell_type": "code",
      "metadata": {
        "colab_type": "code",
        "id": "otF9uEoPIxSE",
        "colab": {
          "base_uri": "https://localhost:8080/",
          "height": 50
        },
        "outputId": "b7b25b52-eb4e-4d33-da7e-e0f739e6be8c"
      },
      "source": [
        "my_ridge.fit(x_train1, y_train)"
      ],
      "execution_count": 441,
      "outputs": [
        {
          "output_type": "execute_result",
          "data": {
            "text/plain": [
              "Ridge(alpha=0.1, copy_X=True, fit_intercept=True, max_iter=None, normalize=True,\n",
              "      random_state=None, solver='auto', tol=0.001)"
            ]
          },
          "metadata": {
            "tags": []
          },
          "execution_count": 441
        }
      ]
    },
    {
      "cell_type": "code",
      "metadata": {
        "colab_type": "code",
        "id": "ZnkWFu-fIxSI",
        "colab": {
          "base_uri": "https://localhost:8080/",
          "height": 50
        },
        "outputId": "3c98c487-2921-4aa0-e83b-e2777ad7880c"
      },
      "source": [
        "y_pred = my_ridge.predict(x_test1)\n",
        "y_pred"
      ],
      "execution_count": 442,
      "outputs": [
        {
          "output_type": "execute_result",
          "data": {
            "text/plain": [
              "array([2493901.8779403 , 2490123.89130221, 2490123.79169101, ...,\n",
              "       2490989.31792879, 2490948.24634469, 2490747.86755188])"
            ]
          },
          "metadata": {
            "tags": []
          },
          "execution_count": 442
        }
      ]
    },
    {
      "cell_type": "code",
      "metadata": {
        "colab_type": "code",
        "id": "MIzIFZAzO7w4",
        "colab": {
          "base_uri": "https://localhost:8080/",
          "height": 34
        },
        "outputId": "5b18b478-b2fa-4b0f-8818-12b6ad0067b7"
      },
      "source": [
        "mae_ridge = mean_absolute_error(y_test, y_pred)\n",
        "mae_ridge"
      ],
      "execution_count": 444,
      "outputs": [
        {
          "output_type": "execute_result",
          "data": {
            "text/plain": [
              "2784735.541004641"
            ]
          },
          "metadata": {
            "tags": []
          },
          "execution_count": 444
        }
      ]
    },
    {
      "cell_type": "code",
      "metadata": {
        "colab_type": "code",
        "id": "adKX0_hdIxSK",
        "colab": {
          "base_uri": "https://localhost:8080/",
          "height": 34
        },
        "outputId": "aeb37cda-0214-452a-fad7-18c94f31be19"
      },
      "source": [
        "r2_score(y_test, y_pred)"
      ],
      "execution_count": 443,
      "outputs": [
        {
          "output_type": "execute_result",
          "data": {
            "text/plain": [
              "0.0038464024541589037"
            ]
          },
          "metadata": {
            "tags": []
          },
          "execution_count": 443
        }
      ]
    }
  ]
}